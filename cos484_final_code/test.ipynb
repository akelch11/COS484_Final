{
 "cells": [
  {
   "cell_type": "code",
   "execution_count": null,
   "metadata": {},
   "outputs": [],
   "source": [
    "os.path.exists(os.path.join(\"/spouse\", \"input-features\", 'dev.bin'))\n",
    "\n",
    "\n",
    "\n",
    "#python run.py --data_dir /spouse --train --num_train_epochs 100 --task_name \n",
    "# spouse --classifier_type feature_concat --exp_dir input-features --num_classes 2 \n",
    "# --train_distributed 0 --dev_distributed 0 --save_model --output_dir output "
   ]
  }
 ],
 "metadata": {
  "kernelspec": {
   "display_name": "base",
   "language": "python",
   "name": "python3"
  },
  "language_info": {
   "name": "python",
   "version": "3.7.6"
  },
  "orig_nbformat": 4
 },
 "nbformat": 4,
 "nbformat_minor": 2
}
